{
 "cells": [
  {
   "cell_type": "markdown",
   "metadata": {},
   "source": [
    "<h1>PyData Kampala</h1>\n",
    "<img src='PyData.webp'/>"
   ]
  },
  {
   "cell_type": "markdown",
   "metadata": {},
   "source": [
    "<h2>About US</h2>\n",
    "<p>PyData is a group for users and developers of data and datascience tools to share ideas and learn from each other. We gather to discuss how best to tackle the evolving challenges in data management, processing, analytics, and visualization.</p>\n",
    "<p>\n",
    "PyData Kampala is a part of PyData Global, a global community that brings together users and developers of data, science and engineering tools.\n",
    "We strive to provide an open and welcoming community where members can contribute, grow and inspire one another.</p>\n",
    "<p>We strictly follow and enforce the NumFocus Code of Conduct which can be accessed <a href\"https://numfocus.org/code-of-conduct\">here</a>.</p>"
   ]
  },
  {
   "cell_type": "markdown",
   "metadata": {},
   "source": [
    "<h2>Introduction to the May-June Series</h2>\n",
    "<p>This series is purposed to introduce fundamentals of the PyData Ecosystem that is; Data analysis, manipulation, visualization and modelling\n",
    "using Python. Module 1 shall comprise of problem-based learning of Data analysis with Python exercises and Module 2 shall cover deep Learning for Structured Data.\n",
    "</p>"
   ]
  },
  {
   "cell_type": "markdown",
   "metadata": {},
   "source": [
    "<h3>How to contribute</h3>\n",
    "<p>You can contribute by;</p>\n",
    "<ul>\n",
    "    <li>Offering a data problem or challenge that we can collectively solve.</li>\n",
    "    <li>Giving a topical talk on the problem at hand</li>\n",
    "    <li>Providing a resource such as a dataset(s), hardware resources, educational material, etc</li>\n",
    "    <li>Offering oneself as an instructor during a session</li>\n",
    "    <li>Sponsoring a meetup(s)</li>\n",
    "</ul>"
   ]
  }
 ],
 "metadata": {
  "kernelspec": {
   "display_name": "Python 3 (ipykernel)",
   "language": "python",
   "name": "python3"
  },
  "language_info": {
   "codemirror_mode": {
    "name": "ipython",
    "version": 3
   },
   "file_extension": ".py",
   "mimetype": "text/x-python",
   "name": "python",
   "nbconvert_exporter": "python",
   "pygments_lexer": "ipython3",
   "version": "3.12.3"
  }
 },
 "nbformat": 4,
 "nbformat_minor": 4
}
